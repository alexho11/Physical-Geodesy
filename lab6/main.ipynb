{
 "cells": [
  {
   "cell_type": "code",
   "execution_count": 37,
   "id": "d31c6ad6",
   "metadata": {
    "tags": []
   },
   "outputs": [],
   "source": [
    "import os\n",
    "import re\n",
    "import numpy as np\n",
    "import matplotlib.pyplot as plt\n",
    "\n",
    "path='DataSG056'\n",
    "file_path=[]\n",
    "for filename in os.listdir(path):\n",
    "    file_path.append((os.path.join(path,filename)))\n"
   ]
  },
  {
   "cell_type": "markdown",
   "id": "75f18603-a165-45a2-ac27-83bb237f7c7a",
   "metadata": {
    "tags": []
   },
   "source": [
    "### read data\n",
    "* first 6 columns are dates `2021 04 01 00 00 00`\n",
    "* 7th column -> G1-F60 in volt \n",
    "* 8th column -> G2-F60 in volt\n",
    "* 9th column -> Br1-F60\n",
    "* 10th column -> Br2-F60"
   ]
  },
  {
   "cell_type": "code",
   "execution_count": 39,
   "id": "85cb6b0d-b082-4433-a331-23c67306415b",
   "metadata": {},
   "outputs": [],
   "source": [
    "data=np.array([])\n",
    "for address in file_path:\n",
    "    if data.size==0:\n",
    "        data=np.loadtxt(address,skiprows=43,unpack=True)\n",
    "    else:\n",
    "        nd=np.loadtxt(address,skiprows=43,unpack=True)\n",
    "        data=np.column_stack((data,nd))"
   ]
  },
  {
   "cell_type": "code",
   "execution_count": 3,
   "id": "e19eb5c7",
   "metadata": {},
   "outputs": [
    {
     "name": "stdout",
     "output_type": "stream",
     "text": [
      "['-40.1100']\n",
      "[]\n"
     ]
    }
   ],
   "source": [
    "rege1=r\"(?<=\\[GRAVITY\\_CAL\\_1\\_UGAL\\_V\\]\\s{10}).*$\"\n",
    "rege2=r\"[GRAVITY_CAL_2_UGAL_V]\"\n",
    "str='[GRAVITY_CAL_1_UGAL_V]          -40.1100'\n",
    "\n",
    "print(re.findall(rege1,str))\n",
    "\n",
    "file1=open(file_path[0])\n",
    "l=file1.readlines( )\n",
    "grav1=[]\n",
    "\n",
    "for x in l:\n",
    "    new_x=x.splitlines()\n",
    "    grav1=re.findall(rege1,new_x[0])\n",
    "print(grav1)"
   ]
  }
 ],
 "metadata": {
  "kernelspec": {
   "display_name": "Python 3",
   "language": "python",
   "name": "python3"
  },
  "language_info": {
   "codemirror_mode": {
    "name": "ipython",
    "version": 3
   },
   "file_extension": ".py",
   "mimetype": "text/x-python",
   "name": "python",
   "nbconvert_exporter": "python",
   "pygments_lexer": "ipython3",
   "version": "3.6.3"
  }
 },
 "nbformat": 4,
 "nbformat_minor": 5
}
