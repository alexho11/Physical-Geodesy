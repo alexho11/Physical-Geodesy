{
 "cells": [
  {
   "cell_type": "code",
   "execution_count": 4,
   "id": "d31c6ad6",
   "metadata": {
    "tags": []
   },
   "outputs": [],
   "source": [
    "import os\n",
    "import re\n",
    "import numpy as np\n",
    "import matplotlib.pyplot as plt\n",
    "\n",
    "path='DataSG056'\n",
    "file_path=[]\n",
    "for filename in os.listdir(path):\n",
    "    file_path.append((os.path.join(path,filename)))\n"
   ]
  },
  {
   "cell_type": "markdown",
   "id": "75f18603-a165-45a2-ac27-83bb237f7c7a",
   "metadata": {
    "tags": []
   },
   "source": [
    "### read data\n",
    "* first 6 columns are dates `2021 04 01 00 00 00`\n",
    "* 7th column -> G1-F60 in volt \n",
    "* 8th column -> G2-F60 in volt\n",
    "* 9th column -> Br1-F60\n",
    "* 10th column -> Br2-F60"
   ]
  },
  {
   "cell_type": "code",
   "execution_count": 37,
   "id": "85cb6b0d-b082-4433-a331-23c67306415b",
   "metadata": {},
   "outputs": [
    {
     "name": "stdout",
     "output_type": "stream",
     "text": [
      "[-4.0750851 -4.0757518 -4.0764057 ... -3.2395485 -3.2484566 -3.258126 ]\n"
     ]
    }
   ],
   "source": [
    "data=np.array([])\n",
    "for address in file_path:\n",
    "    if data.size==0:\n",
    "        data=np.loadtxt(address,skiprows=43,unpack=True)\n",
    "    else:\n",
    "        nd=np.loadtxt(address,skiprows=43,unpack=True)\n",
    "        data=np.column_stack((data,nd))\n",
    "print(data[6,:])"
   ]
  },
  {
   "cell_type": "markdown",
   "id": "049eb1be",
   "metadata": {},
   "source": [
    "## convert measurement\n",
    "volt -> $\\mu$gal"
   ]
  },
  {
   "cell_type": "code",
   "execution_count": 39,
   "id": "e19eb5c7",
   "metadata": {},
   "outputs": [],
   "source": [
    "cal1=-40.11\n",
    "cal2=-80.0699\n",
    "data[6,:]=cal1*data[6,:]\n",
    "data[7,:]=cal2*data[7,:]"
   ]
  },
  {
   "cell_type": "code",
   "execution_count": null,
   "id": "f71b1123",
   "metadata": {},
   "outputs": [],
   "source": []
  }
 ],
 "metadata": {
  "kernelspec": {
   "display_name": "Python 3 (ipykernel)",
   "language": "python",
   "name": "python3"
  },
  "language_info": {
   "codemirror_mode": {
    "name": "ipython",
    "version": 3
   },
   "file_extension": ".py",
   "mimetype": "text/x-python",
   "name": "python",
   "nbconvert_exporter": "python",
   "pygments_lexer": "ipython3",
   "version": "3.8.5"
  }
 },
 "nbformat": 4,
 "nbformat_minor": 5
}
