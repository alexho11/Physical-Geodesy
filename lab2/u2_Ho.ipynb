{
 "cells": [
  {
   "cell_type": "markdown",
   "metadata": {
    "tags": []
   },
   "source": [
    "# Physical Geodesy lab 2"
   ]
  },
  {
   "cell_type": "code",
   "execution_count": 1,
   "metadata": {
    "scrolled": true
   },
   "outputs": [],
   "source": [
    "import numpy as np\n",
    "from scipy import io, integrate, linalg, signal\n",
    "from scipy.sparse.linalg import eigs\n",
    "\n",
    "y=np.array([[3854.692 ,3854.692 ,3854.691] , [3852.795, 3852.794, 3852.793], [3854.671, 3854.671, 3854.673], [3852.769, 3852.771, 3852.775], [3849.806, 3849.811, 3849.815],[3852.789, 3852.790, 3852.787], [3849.823, 3849.823, 3849.820]])\n",
    "t=np.array([[10*3600 + 60*43 + 32],\n",
    "     [10*3600 + 57*60 + 13],\n",
    "     [11*3600 +  8*60 + 29],\n",
    "     [11*3600 + 19*60 + 29],\n",
    "     [11*3600 + 29*60 + 18],\n",
    "     [11*3600 + 37*60 + 40],\n",
    "     [11*3600 + 47*60 + 33]])"
   ]
  },
  {
   "cell_type": "code",
   "execution_count": 2,
   "metadata": {
    "scrolled": true
   },
   "outputs": [
    {
     "name": "stdout",
     "output_type": "stream",
     "text": [
      "[0.00033333 0.00057735 0.00066667 0.00176383 0.00260342 0.00088192\n",
      " 0.001     ]\n",
      "[3854.69166667 3852.794      3854.67166667 3852.77166667 3849.81066667\n",
      " 3852.78866667 3849.822     ]\n",
      "[ 1.89766667  0.          1.87766667 -0.02233333 -2.98333333 -0.00533333\n",
      " -2.972     ]\n",
      "[ 1.89766667  1.87766667 -0.02233333 -2.98333333 -0.00533333 -2.972     ]\n",
      "[0.66666667 0.8819171  1.85592145 2.66666667 1.05409255 1.15470054]\n"
     ]
    }
   ],
   "source": [
    "sig_y=np.std(y,axis=1,ddof=1)\n",
    "sig_ym=sig_y/np.sqrt(3)\n",
    "print(sig_ym)\n",
    "y_m=np.mean(y,axis=1)\n",
    "print(y_m)\n",
    "dy=y_m-y_m[1]\n",
    "print(dy)\n",
    "dy=np.r_[dy[0],dy[2:]]\n",
    "print(dy)\n",
    "F=np.array([[1,-1,0,0,0,0,0],\n",
    "     [0, -1, 1, 0, 0, 0, 0],\n",
    "     [0, -1, 0, 1, 0, 0, 0],\n",
    "     [0 ,-1 ,0, 0 ,1 ,0 ,0],\n",
    "     [0 ,-1 ,0, 0, 0, 1, 0],\n",
    "     [0 ,-1, 0 ,0 ,0, 0, 1]])\n",
    "Sig_ym=np.diag(sig_ym**2)\n",
    "Sig_dy=F@Sig_ym@F.T\n",
    "sig_dy=np.sqrt(np.diag(Sig_dy))\n",
    "print(sig_dy*1000)"
   ]
  },
  {
   "cell_type": "code",
   "execution_count": 5,
   "metadata": {
    "scrolled": true
   },
   "outputs": [
    {
     "name": "stdout",
     "output_type": "stream",
     "text": [
      "[-1.88885590e+00 -2.95796015e+00 -5.55979719e-06]\n",
      "[[ 2.92645774e-07  1.01040331e-07 -3.54887935e-11]\n",
      " [ 1.01040331e-07  2.16270088e-06 -3.65246020e-10]\n",
      " [-3.54887935e-11 -3.65246020e-10  1.28286799e-13]]\n",
      "[ 0.00424618 -0.00743081 -0.01490544 -0.01467058  0.00816029  0.00275073]\n",
      "90.64490373811367\n",
      "3.4100651774973968e-06\n"
     ]
    }
   ],
   "source": [
    "a=np.array([[-1,0],[-1,0],[0,0],[0,1],[0,0],[0,1]])\n",
    "dt=(t-t[1]).T\n",
    "dt=np.r_[dt[0,0],dt[0,2:]]\n",
    "A=np.c_[a,np.array([dt]).T]\n",
    "P=1/(sig_dy**2)\n",
    "P=np.diag(P)\n",
    "xd=linalg.inv(A.T@P@A)@A.T@P@dy\n",
    "print(xd)\n",
    "Qxd=linalg.inv(A.T@P@A)\n",
    "print(Qxd)\n",
    "e=dy-A@xd\n",
    "print(e)\n",
    "Sig_d=e@P@e.T/(6-3)\n",
    "print(Sig_d)\n",
    "Sig_xd=Sig_d*Qxd\n",
    "sig3=np.sqrt(Sig_xd[2,2])\n",
    "print(sig3)\n"
   ]
  },
  {
   "cell_type": "code",
   "execution_count": 15,
   "metadata": {},
   "outputs": [
    {
     "name": "stdout",
     "output_type": "stream",
     "text": [
      "-0.27386630380117627\n",
      "-0.28543473374900413\n",
      "[[ 0.14499058  0.          0.03970803  0.        ]\n",
      " [ 0.          0.05793743 -0.02754364  0.02754364]]\n",
      "[0.00119125 0.00116863]\n"
     ]
    }
   ],
   "source": [
    "dh1=6.897\n",
    "dh2=17.260\n",
    "sig_h=0.03\n",
    "\n",
    "dgh1=xd[0]/dh1\n",
    "dgh2=xd[1]/(dh2-dh1)\n",
    "print(dgh1)\n",
    "print(dgh2)\n",
    "F=np.array([[1/dh1,0,-xd[0]/dh1**2,0],[0,1/dh2,xd[1]/(dh2-dh1)**2,-xd[1]/(dh2-dh1)**2]])\n",
    "print(F)\n",
    "Sig_l=np.diag(np.array([Sig_xd[0,0],Sig_xd[1,1],sig_h,sig_h])**2)\n",
    "Sig_dgdh=F@Sig_l@F.T\n",
    "print(np.sqrt(np.diag(Sig_dgdh)))"
   ]
  },
  {
   "cell_type": "code",
   "execution_count": null,
   "metadata": {},
   "outputs": [],
   "source": []
  }
 ],
 "metadata": {
  "kernelspec": {
   "display_name": "Python 3 (ipykernel)",
   "language": "python",
   "name": "python3"
  },
  "language_info": {
   "codemirror_mode": {
    "name": "ipython",
    "version": 3
   },
   "file_extension": ".py",
   "mimetype": "text/x-python",
   "name": "python",
   "nbconvert_exporter": "python",
   "pygments_lexer": "ipython3",
   "version": "3.8.5"
  }
 },
 "nbformat": 4,
 "nbformat_minor": 4
}
