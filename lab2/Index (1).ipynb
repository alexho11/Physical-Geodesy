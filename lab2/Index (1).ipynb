{
 "cells": [
  {
   "cell_type": "markdown",
   "metadata": {
    "tags": []
   },
   "source": [
    "# Physical Geodesy lab 2"
   ]
  },
  {
   "cell_type": "code",
   "execution_count": 1,
   "metadata": {
    "scrolled": true
   },
   "outputs": [
    {
     "name": "stdout",
     "output_type": "stream",
     "text": [
      "[[3854.692 3854.692 3854.691]\n",
      " [3852.795 3852.794 3852.793]\n",
      " [3854.671 3854.671 3854.673]\n",
      " [3852.769 3852.771 3852.775]\n",
      " [3849.806 3849.811 3849.815]\n",
      " [3852.789 3852.79  3852.787]\n",
      " [3849.823 3849.823 3849.82 ]]\n"
     ]
    }
   ],
   "source": [
    "import numpy as np\n",
    "from scipy import io, integrate, linalg, signal\n",
    "from scipy.sparse.linalg import eigs\n",
    "\n",
    "y=np.array([[3854.692 ,3854.692 ,3854.691] , [3852.795, 3852.794, 3852.793], [3854.671, 3854.671, 3854.673], [3852.769, 3852.771, 3852.775], [3849.806, 3849.811, 3849.815],[3852.789, 3852.790, 3852.787], [3849.823, 3849.823, 3849.820]])\n",
    "\n",
    "print(y)"
   ]
  },
  {
   "cell_type": "code",
   "execution_count": 2,
   "metadata": {
    "scrolled": true
   },
   "outputs": [
    {
     "name": "stdout",
     "output_type": "stream",
     "text": [
      "[[3854.69166667]\n",
      " [3852.794     ]\n",
      " [3854.67166667]\n",
      " [3852.77166667]\n",
      " [3849.81066667]\n",
      " [3852.78866667]\n",
      " [3849.822     ]]\n"
     ]
    }
   ],
   "source": [
    "y3=y.mean(axis=1)[:, np.newaxis]\n",
    "print(y3)"
   ]
  },
  {
   "cell_type": "code",
   "execution_count": 3,
   "metadata": {
    "scrolled": true
   },
   "outputs": [
    {
     "name": "stdout",
     "output_type": "stream",
     "text": [
      "[[ 0.00033333  0.00033333 -0.00066667]\n",
      " [ 0.001       0.         -0.001     ]\n",
      " [-0.00066667 -0.00066667  0.00133333]\n",
      " [-0.00266667 -0.00066667  0.00333333]\n",
      " [-0.00466667  0.00033333  0.00433333]\n",
      " [ 0.00033333  0.00133333 -0.00166667]\n",
      " [ 0.001       0.001      -0.002     ]]\n"
     ]
    }
   ],
   "source": [
    "d=y-np.c_[y3,y3,y3]\n",
    "print(d)"
   ]
  },
  {
   "cell_type": "code",
   "execution_count": 4,
   "metadata": {},
   "outputs": [
    {
     "name": "stdout",
     "output_type": "stream",
     "text": [
      "[0.00033333 0.00057735 0.00066667 0.00176383 0.00260342 0.00088192\n",
      " 0.001     ]\n",
      "[0.00012599 0.00021822 0.00025198 0.00066667 0.000984   0.00033333\n",
      " 0.00037796]\n"
     ]
    }
   ],
   "source": [
    "dd=d**2\n",
    "s=np.sqrt(sum(dd.T)/6)\n",
    "print(s)\n",
    "s_l=s/np.sqrt(7)\n",
    "print(s_l)"
   ]
  },
  {
   "cell_type": "code",
   "execution_count": 5,
   "metadata": {},
   "outputs": [
    {
     "name": "stdout",
     "output_type": "stream",
     "text": [
      "[[ 1.89766667]\n",
      " [ 0.        ]\n",
      " [ 1.87766667]\n",
      " [-0.02233333]\n",
      " [-2.98333333]\n",
      " [-0.00533333]\n",
      " [-2.972     ]]\n",
      "[[ 1.89766667]\n",
      " [ 1.87766667]\n",
      " [-0.02233333]\n",
      " [-2.98333333]\n",
      " [-0.00533333]\n",
      " [-2.972     ]]\n"
     ]
    }
   ],
   "source": [
    "delta_y=y3-y3[1]\n",
    "print(delta_y)\n",
    "delta_y=np.vstack((delta_y[0],delta_y[2:7]))\n",
    "print(delta_y)"
   ]
  },
  {
   "cell_type": "code",
   "execution_count": 6,
   "metadata": {},
   "outputs": [
    {
     "name": "stdout",
     "output_type": "stream",
     "text": [
      "[[44473.44546 44473.44618 44473.44689]\n",
      " [44473.45494 44473.45567 44473.45638]\n",
      " [44473.46275 44473.46348 44473.46419]\n",
      " [44473.47038 44473.47111 44473.47181]\n",
      " [44473.47719 44473.47791 44473.47862]\n",
      " [44473.48299 44473.48372 44473.48442]\n",
      " [44473.48984 44473.49057 44473.49127]]\n"
     ]
    }
   ],
   "source": [
    "t=np.array([[44473.44546,44473.44618,44473.44689],[44473.45494,44473.45567,44473.45638],[44473.46275,44473.46348,44473.46419],[44473.47038,44473.47111,44473.47181],[44473.47719,44473.47791,44473.47862],[44473.48299,44473.48372,44473.48442],[44473.48984,44473.49057,44473.49127]])\n",
    "print(t)"
   ]
  },
  {
   "cell_type": "code",
   "execution_count": null,
   "metadata": {},
   "outputs": [],
   "source": []
  }
 ],
 "metadata": {
  "kernelspec": {
   "display_name": "Python 3",
   "language": "python",
   "name": "python3"
  },
  "language_info": {
   "codemirror_mode": {
    "name": "ipython",
    "version": 3
   },
   "file_extension": ".py",
   "mimetype": "text/x-python",
   "name": "python",
   "nbconvert_exporter": "python",
   "pygments_lexer": "ipython3",
   "version": "3.6.3"
  }
 },
 "nbformat": 4,
 "nbformat_minor": 4
}
